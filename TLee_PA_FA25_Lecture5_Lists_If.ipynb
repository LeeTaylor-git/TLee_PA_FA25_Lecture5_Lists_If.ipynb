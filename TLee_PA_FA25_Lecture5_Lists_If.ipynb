{
  "nbformat": 4,
  "nbformat_minor": 0,
  "metadata": {
    "colab": {
      "provenance": [],
      "include_colab_link": true
    },
    "kernelspec": {
      "name": "python3",
      "display_name": "Python 3"
    },
    "language_info": {
      "name": "python"
    }
  },
  "cells": [
    {
      "cell_type": "markdown",
      "metadata": {
        "id": "view-in-github",
        "colab_type": "text"
      },
      "source": [
        "<a href=\"https://colab.research.google.com/github/LeeTaylor-git/TLee_PA_FA25_Lecture5_Lists_If.ipynb/blob/main/TLee_PA_FA25_Lecture5_Lists_If.ipynb\" target=\"_parent\"><img src=\"https://colab.research.google.com/assets/colab-badge.svg\" alt=\"Open In Colab\"/></a>"
      ]
    },
    {
      "cell_type": "code",
      "source": [
        "# Initial Code\n",
        "def sign_name(my_name = \"Andy Warhol\"):\n",
        "  print(f\"I signed my name: {my_name}\")"
      ],
      "metadata": {
        "id": "1hIrTawcfYbG"
      },
      "execution_count": null,
      "outputs": []
    },
    {
      "cell_type": "markdown",
      "source": [
        "**Practice 1: modify the previous function such that a user can date today's date**\n",
        "\n",
        "Resource: [How to get current date and time in Python?](https://www.programiz.com/python-programming/datetime/current-datetime)"
      ],
      "metadata": {
        "id": "dK5Ndc0Ux3by"
      }
    },
    {
      "cell_type": "code",
      "source": [
        "# Answer Code\n",
        "from datetime import date\n",
        "def sign_name(my_name = \"Taylor Lee\"):\n",
        "  print(f\"I signed my name: {my_name}. Today's date: {date.today()}\")\n",
        "sign_name() # Initialize function to test code."
      ],
      "metadata": {
        "id": "iGkcxLyLrsNj"
      },
      "execution_count": null,
      "outputs": []
    },
    {
      "cell_type": "markdown",
      "source": [
        "**Practice 2: Remove \"onion soup\" from list_of_soup_flavors and then add \"black bean soup\" at the end of list_of_soup_flavors**"
      ],
      "metadata": {
        "id": "b0YAPgZtB2e1"
      }
    },
    {
      "cell_type": "code",
      "source": [
        "list_of_soup_flavors = [\"chicken noodle soup\", \"onion soup\", \"green pea soup\", \"chili beef soup\", \"vegetable soup\"]\n",
        "print(list_of_soup_flavors) # Initial test to show onion soup is present.\n",
        "list_of_soup_flavors.remove(\"onion soup\")\n",
        "list_of_soup_flavors.append(\"black bean soup\")\n",
        "print(list_of_soup_flavors) # Second test to ensure onion soup was removed and black bean soup was added."
      ],
      "metadata": {
        "id": "6gFa6Y52Qrky"
      },
      "execution_count": null,
      "outputs": []
    }
  ]
}